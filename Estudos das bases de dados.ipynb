{
 "cells": [
  {
   "cell_type": "markdown",
   "metadata": {},
   "source": [
    "<h1>Estudo Bases de Dados</h1>"
   ]
  },
  {
   "cell_type": "code",
   "execution_count": 107,
   "metadata": {
    "ExecuteTime": {
     "end_time": "2020-10-05T00:42:31.340941Z",
     "start_time": "2020-10-05T00:42:31.302961Z"
    }
   },
   "outputs": [],
   "source": [
    "import pandas as pd\n",
    "import numpy as np\n",
    "import folium"
   ]
  },
  {
   "cell_type": "code",
   "execution_count": 108,
   "metadata": {
    "ExecuteTime": {
     "end_time": "2020-10-05T00:42:31.531797Z",
     "start_time": "2020-10-05T00:42:31.344938Z"
    }
   },
   "outputs": [],
   "source": [
    "data_path = '../data/'"
   ]
  },
  {
   "cell_type": "code",
   "execution_count": 109,
   "metadata": {
    "ExecuteTime": {
     "end_time": "2020-10-05T00:42:31.766094Z",
     "start_time": "2020-10-05T00:42:31.535796Z"
    }
   },
   "outputs": [],
   "source": [
    "def plota_latlong(map_object,coord):\n",
    "    folium.Marker(coord,icon=folium.Icon(icon='circle')).add_to(map_object)"
   ]
  },
  {
   "cell_type": "markdown",
   "metadata": {},
   "source": [
    "## Dados de ocorrência de incêndios"
   ]
  },
  {
   "cell_type": "code",
   "execution_count": 110,
   "metadata": {
    "ExecuteTime": {
     "end_time": "2020-10-05T00:42:32.808711Z",
     "start_time": "2020-10-05T00:42:31.770092Z"
    }
   },
   "outputs": [],
   "source": [
    "df_fire_rt = pd.read_csv(data_path+'fire_realtime_M6_157591.csv')"
   ]
  },
  {
   "cell_type": "code",
   "execution_count": 111,
   "metadata": {
    "ExecuteTime": {
     "end_time": "2020-10-05T00:42:36.692999Z",
     "start_time": "2020-10-05T00:42:32.811629Z"
    }
   },
   "outputs": [],
   "source": [
    "df_fire_arq = pd.read_csv(data_path+'fire_archive_M6_157591.csv')"
   ]
  },
  {
   "cell_type": "code",
   "execution_count": 112,
   "metadata": {
    "ExecuteTime": {
     "end_time": "2020-10-05T00:42:36.708993Z",
     "start_time": "2020-10-05T00:42:36.695996Z"
    }
   },
   "outputs": [
    {
     "data": {
      "text/plain": [
       "Index(['latitude', 'longitude', 'brightness', 'scan', 'track', 'acq_date',\n",
       "       'acq_time', 'satellite', 'instrument', 'confidence', 'version',\n",
       "       'bright_t31', 'frp', 'daynight'],\n",
       "      dtype='object')"
      ]
     },
     "execution_count": 112,
     "metadata": {},
     "output_type": "execute_result"
    }
   ],
   "source": [
    "df_fire_rt.columns"
   ]
  },
  {
   "cell_type": "code",
   "execution_count": 113,
   "metadata": {
    "ExecuteTime": {
     "end_time": "2020-10-05T00:42:37.742756Z",
     "start_time": "2020-10-05T00:42:36.716983Z"
    }
   },
   "outputs": [],
   "source": [
    "m = folium.Map(\n",
    "    zoom_start=12,\n",
    "    tiles='Stamen Terrain'\n",
    ")"
   ]
  },
  {
   "cell_type": "code",
   "execution_count": 114,
   "metadata": {
    "ExecuteTime": {
     "end_time": "2020-10-05T00:42:37.885352Z",
     "start_time": "2020-10-05T00:42:37.746673Z"
    }
   },
   "outputs": [],
   "source": [
    "for lat,long in df_fire_rt.head(1000)[['latitude','longitude']].values:\n",
    "    plota_latlong(m,[lat,long])"
   ]
  },
  {
   "cell_type": "code",
   "execution_count": 115,
   "metadata": {
    "ExecuteTime": {
     "end_time": "2020-10-05T00:42:39.513164Z",
     "start_time": "2020-10-05T00:42:37.892331Z"
    }
   },
   "outputs": [],
   "source": [
    "for data in df_fire_rt.acq_date.unique():\n",
    "    if data in leituras.stime.str[:10].values:\n",
    "        print(data)"
   ]
  },
  {
   "cell_type": "code",
   "execution_count": 116,
   "metadata": {
    "ExecuteTime": {
     "end_time": "2020-10-05T00:42:40.021103Z",
     "start_time": "2020-10-05T00:42:39.516163Z"
    }
   },
   "outputs": [],
   "source": [
    "df_fire_rt.acq_date = pd.to_datetime(df_fire_rt.acq_date)"
   ]
  },
  {
   "cell_type": "code",
   "execution_count": 117,
   "metadata": {
    "ExecuteTime": {
     "end_time": "2020-10-05T00:42:40.053069Z",
     "start_time": "2020-10-05T00:42:40.026085Z"
    }
   },
   "outputs": [
    {
     "data": {
      "text/html": [
       "<div>\n",
       "<style scoped>\n",
       "    .dataframe tbody tr th:only-of-type {\n",
       "        vertical-align: middle;\n",
       "    }\n",
       "\n",
       "    .dataframe tbody tr th {\n",
       "        vertical-align: top;\n",
       "    }\n",
       "\n",
       "    .dataframe thead th {\n",
       "        text-align: right;\n",
       "    }\n",
       "</style>\n",
       "<table border=\"1\" class=\"dataframe\">\n",
       "  <thead>\n",
       "    <tr style=\"text-align: right;\">\n",
       "      <th></th>\n",
       "      <th>latitude</th>\n",
       "      <th>longitude</th>\n",
       "    </tr>\n",
       "  </thead>\n",
       "  <tbody>\n",
       "    <tr>\n",
       "      <td>0</td>\n",
       "      <td>-6.381</td>\n",
       "      <td>-43.699</td>\n",
       "    </tr>\n",
       "    <tr>\n",
       "      <td>1</td>\n",
       "      <td>-5.273</td>\n",
       "      <td>-37.393</td>\n",
       "    </tr>\n",
       "    <tr>\n",
       "      <td>2</td>\n",
       "      <td>-3.595</td>\n",
       "      <td>-38.865</td>\n",
       "    </tr>\n",
       "    <tr>\n",
       "      <td>3</td>\n",
       "      <td>-18.762</td>\n",
       "      <td>-57.620</td>\n",
       "    </tr>\n",
       "    <tr>\n",
       "      <td>4</td>\n",
       "      <td>-18.770</td>\n",
       "      <td>-57.612</td>\n",
       "    </tr>\n",
       "    <tr>\n",
       "      <td>...</td>\n",
       "      <td>...</td>\n",
       "      <td>...</td>\n",
       "    </tr>\n",
       "    <tr>\n",
       "      <td>241718</td>\n",
       "      <td>-10.814</td>\n",
       "      <td>-69.652</td>\n",
       "    </tr>\n",
       "    <tr>\n",
       "      <td>241719</td>\n",
       "      <td>-10.803</td>\n",
       "      <td>-69.641</td>\n",
       "    </tr>\n",
       "    <tr>\n",
       "      <td>241720</td>\n",
       "      <td>-10.804</td>\n",
       "      <td>-69.653</td>\n",
       "    </tr>\n",
       "    <tr>\n",
       "      <td>241721</td>\n",
       "      <td>-10.786</td>\n",
       "      <td>-69.594</td>\n",
       "    </tr>\n",
       "    <tr>\n",
       "      <td>241722</td>\n",
       "      <td>-10.787</td>\n",
       "      <td>-69.606</td>\n",
       "    </tr>\n",
       "  </tbody>\n",
       "</table>\n",
       "<p>241723 rows × 2 columns</p>\n",
       "</div>"
      ],
      "text/plain": [
       "        latitude  longitude\n",
       "0         -6.381    -43.699\n",
       "1         -5.273    -37.393\n",
       "2         -3.595    -38.865\n",
       "3        -18.762    -57.620\n",
       "4        -18.770    -57.612\n",
       "...          ...        ...\n",
       "241718   -10.814    -69.652\n",
       "241719   -10.803    -69.641\n",
       "241720   -10.804    -69.653\n",
       "241721   -10.786    -69.594\n",
       "241722   -10.787    -69.606\n",
       "\n",
       "[241723 rows x 2 columns]"
      ]
     },
     "execution_count": 117,
     "metadata": {},
     "output_type": "execute_result"
    }
   ],
   "source": [
    "df_fire_rt[['latitude','longitude']]"
   ]
  },
  {
   "cell_type": "code",
   "execution_count": 118,
   "metadata": {
    "ExecuteTime": {
     "end_time": "2020-10-05T00:42:40.305941Z",
     "start_time": "2020-10-05T00:42:40.058067Z"
    }
   },
   "outputs": [
    {
     "name": "stdout",
     "output_type": "stream",
     "text": [
      "2020-07-01 00:00:00 2020-10-03 00:00:00\n"
     ]
    }
   ],
   "source": [
    "print(df_fire_rt.acq_date.min(), df_fire_rt.acq_date.max())"
   ]
  },
  {
   "cell_type": "code",
   "execution_count": 119,
   "metadata": {
    "ExecuteTime": {
     "end_time": "2020-10-05T00:42:41.378259Z",
     "start_time": "2020-10-05T00:42:40.310938Z"
    }
   },
   "outputs": [],
   "source": [
    "df_fire_rt['latitude'] = df_fire_rt['latitude'].astype(str).str[:5]\n",
    "df_fire_rt['longitude'] = df_fire_rt['longitude'].astype(str).str[:5]"
   ]
  },
  {
   "cell_type": "code",
   "execution_count": 120,
   "metadata": {
    "ExecuteTime": {
     "end_time": "2020-10-05T00:42:46.300602Z",
     "start_time": "2020-10-05T00:42:41.384251Z"
    }
   },
   "outputs": [],
   "source": [
    "# Criação da chave para merge com dados metereológicos\n",
    "df_fire_rt[\"key\"] = df_fire_rt['latitude'].astype(str) + df_fire_rt['longitude'].astype(str) + df_fire_rt['acq_date'].astype(str)\n",
    "df_fire_rt[\"key_loc\"] = df_fire_rt['latitude'].astype(str) + df_fire_rt['longitude'].astype(str)"
   ]
  },
  {
   "cell_type": "code",
   "execution_count": 121,
   "metadata": {
    "ExecuteTime": {
     "end_time": "2020-10-05T00:42:46.504507Z",
     "start_time": "2020-10-05T00:42:46.303525Z"
    }
   },
   "outputs": [
    {
     "name": "stdout",
     "output_type": "stream",
     "text": [
      "4.941 -73.6\n",
      "-0.09 -34.9\n"
     ]
    }
   ],
   "source": [
    "print(df_fire_rt.latitude.max(), df_fire_rt.longitude.max())\n",
    "print(df_fire_rt.latitude.min(), df_fire_rt.longitude.min())"
   ]
  },
  {
   "cell_type": "code",
   "execution_count": 122,
   "metadata": {
    "ExecuteTime": {
     "end_time": "2020-10-05T00:42:46.600436Z",
     "start_time": "2020-10-05T00:42:46.509488Z"
    }
   },
   "outputs": [
    {
     "data": {
      "text/html": [
       "<div>\n",
       "<style scoped>\n",
       "    .dataframe tbody tr th:only-of-type {\n",
       "        vertical-align: middle;\n",
       "    }\n",
       "\n",
       "    .dataframe tbody tr th {\n",
       "        vertical-align: top;\n",
       "    }\n",
       "\n",
       "    .dataframe thead th {\n",
       "        text-align: right;\n",
       "    }\n",
       "</style>\n",
       "<table border=\"1\" class=\"dataframe\">\n",
       "  <thead>\n",
       "    <tr style=\"text-align: right;\">\n",
       "      <th></th>\n",
       "      <th>latitude</th>\n",
       "      <th>longitude</th>\n",
       "      <th>brightness</th>\n",
       "      <th>scan</th>\n",
       "      <th>track</th>\n",
       "      <th>acq_date</th>\n",
       "      <th>acq_time</th>\n",
       "      <th>satellite</th>\n",
       "      <th>instrument</th>\n",
       "      <th>confidence</th>\n",
       "      <th>version</th>\n",
       "      <th>bright_t31</th>\n",
       "      <th>frp</th>\n",
       "      <th>daynight</th>\n",
       "      <th>key</th>\n",
       "      <th>key_loc</th>\n",
       "    </tr>\n",
       "  </thead>\n",
       "  <tbody>\n",
       "    <tr>\n",
       "      <td>0</td>\n",
       "      <td>-6.38</td>\n",
       "      <td>-43.6</td>\n",
       "      <td>300.6</td>\n",
       "      <td>2.8</td>\n",
       "      <td>1.6</td>\n",
       "      <td>2020-07-01</td>\n",
       "      <td>55</td>\n",
       "      <td>Terra</td>\n",
       "      <td>MODIS</td>\n",
       "      <td>31</td>\n",
       "      <td>6.0NRT</td>\n",
       "      <td>289.9</td>\n",
       "      <td>17.5</td>\n",
       "      <td>N</td>\n",
       "      <td>-6.38-43.62020-07-01</td>\n",
       "      <td>-6.38-43.6</td>\n",
       "    </tr>\n",
       "    <tr>\n",
       "      <td>1</td>\n",
       "      <td>-5.27</td>\n",
       "      <td>-37.3</td>\n",
       "      <td>316.4</td>\n",
       "      <td>1.0</td>\n",
       "      <td>1.0</td>\n",
       "      <td>2020-07-01</td>\n",
       "      <td>55</td>\n",
       "      <td>Terra</td>\n",
       "      <td>MODIS</td>\n",
       "      <td>93</td>\n",
       "      <td>6.0NRT</td>\n",
       "      <td>292.7</td>\n",
       "      <td>14.1</td>\n",
       "      <td>N</td>\n",
       "      <td>-5.27-37.32020-07-01</td>\n",
       "      <td>-5.27-37.3</td>\n",
       "    </tr>\n",
       "    <tr>\n",
       "      <td>2</td>\n",
       "      <td>-3.59</td>\n",
       "      <td>-38.8</td>\n",
       "      <td>301.9</td>\n",
       "      <td>1.1</td>\n",
       "      <td>1.1</td>\n",
       "      <td>2020-07-01</td>\n",
       "      <td>55</td>\n",
       "      <td>Terra</td>\n",
       "      <td>MODIS</td>\n",
       "      <td>21</td>\n",
       "      <td>6.0NRT</td>\n",
       "      <td>290.8</td>\n",
       "      <td>4.2</td>\n",
       "      <td>N</td>\n",
       "      <td>-3.59-38.82020-07-01</td>\n",
       "      <td>-3.59-38.8</td>\n",
       "    </tr>\n",
       "    <tr>\n",
       "      <td>3</td>\n",
       "      <td>-18.7</td>\n",
       "      <td>-57.6</td>\n",
       "      <td>368.7</td>\n",
       "      <td>1.0</td>\n",
       "      <td>1.0</td>\n",
       "      <td>2020-07-01</td>\n",
       "      <td>230</td>\n",
       "      <td>Terra</td>\n",
       "      <td>MODIS</td>\n",
       "      <td>100</td>\n",
       "      <td>6.0NRT</td>\n",
       "      <td>300.0</td>\n",
       "      <td>113.6</td>\n",
       "      <td>N</td>\n",
       "      <td>-18.7-57.62020-07-01</td>\n",
       "      <td>-18.7-57.6</td>\n",
       "    </tr>\n",
       "    <tr>\n",
       "      <td>4</td>\n",
       "      <td>-18.7</td>\n",
       "      <td>-57.6</td>\n",
       "      <td>327.5</td>\n",
       "      <td>1.0</td>\n",
       "      <td>1.0</td>\n",
       "      <td>2020-07-01</td>\n",
       "      <td>230</td>\n",
       "      <td>Terra</td>\n",
       "      <td>MODIS</td>\n",
       "      <td>80</td>\n",
       "      <td>6.0NRT</td>\n",
       "      <td>291.3</td>\n",
       "      <td>27.2</td>\n",
       "      <td>N</td>\n",
       "      <td>-18.7-57.62020-07-01</td>\n",
       "      <td>-18.7-57.6</td>\n",
       "    </tr>\n",
       "    <tr>\n",
       "      <td>...</td>\n",
       "      <td>...</td>\n",
       "      <td>...</td>\n",
       "      <td>...</td>\n",
       "      <td>...</td>\n",
       "      <td>...</td>\n",
       "      <td>...</td>\n",
       "      <td>...</td>\n",
       "      <td>...</td>\n",
       "      <td>...</td>\n",
       "      <td>...</td>\n",
       "      <td>...</td>\n",
       "      <td>...</td>\n",
       "      <td>...</td>\n",
       "      <td>...</td>\n",
       "      <td>...</td>\n",
       "      <td>...</td>\n",
       "    </tr>\n",
       "    <tr>\n",
       "      <td>241718</td>\n",
       "      <td>-10.8</td>\n",
       "      <td>-69.6</td>\n",
       "      <td>327.9</td>\n",
       "      <td>1.3</td>\n",
       "      <td>1.1</td>\n",
       "      <td>2020-10-03</td>\n",
       "      <td>1805</td>\n",
       "      <td>Aqua</td>\n",
       "      <td>MODIS</td>\n",
       "      <td>82</td>\n",
       "      <td>6.0NRT</td>\n",
       "      <td>297.8</td>\n",
       "      <td>30.0</td>\n",
       "      <td>D</td>\n",
       "      <td>-10.8-69.62020-10-03</td>\n",
       "      <td>-10.8-69.6</td>\n",
       "    </tr>\n",
       "    <tr>\n",
       "      <td>241719</td>\n",
       "      <td>-10.8</td>\n",
       "      <td>-69.6</td>\n",
       "      <td>334.0</td>\n",
       "      <td>1.3</td>\n",
       "      <td>1.1</td>\n",
       "      <td>2020-10-03</td>\n",
       "      <td>1805</td>\n",
       "      <td>Aqua</td>\n",
       "      <td>MODIS</td>\n",
       "      <td>86</td>\n",
       "      <td>6.0NRT</td>\n",
       "      <td>296.9</td>\n",
       "      <td>41.8</td>\n",
       "      <td>D</td>\n",
       "      <td>-10.8-69.62020-10-03</td>\n",
       "      <td>-10.8-69.6</td>\n",
       "    </tr>\n",
       "    <tr>\n",
       "      <td>241720</td>\n",
       "      <td>-10.8</td>\n",
       "      <td>-69.6</td>\n",
       "      <td>352.4</td>\n",
       "      <td>1.3</td>\n",
       "      <td>1.1</td>\n",
       "      <td>2020-10-03</td>\n",
       "      <td>1805</td>\n",
       "      <td>Aqua</td>\n",
       "      <td>MODIS</td>\n",
       "      <td>96</td>\n",
       "      <td>6.0NRT</td>\n",
       "      <td>299.3</td>\n",
       "      <td>93.9</td>\n",
       "      <td>D</td>\n",
       "      <td>-10.8-69.62020-10-03</td>\n",
       "      <td>-10.8-69.6</td>\n",
       "    </tr>\n",
       "    <tr>\n",
       "      <td>241721</td>\n",
       "      <td>-10.7</td>\n",
       "      <td>-69.5</td>\n",
       "      <td>324.8</td>\n",
       "      <td>1.3</td>\n",
       "      <td>1.1</td>\n",
       "      <td>2020-10-03</td>\n",
       "      <td>1805</td>\n",
       "      <td>Aqua</td>\n",
       "      <td>MODIS</td>\n",
       "      <td>79</td>\n",
       "      <td>6.0NRT</td>\n",
       "      <td>296.6</td>\n",
       "      <td>23.7</td>\n",
       "      <td>D</td>\n",
       "      <td>-10.7-69.52020-10-03</td>\n",
       "      <td>-10.7-69.5</td>\n",
       "    </tr>\n",
       "    <tr>\n",
       "      <td>241722</td>\n",
       "      <td>-10.7</td>\n",
       "      <td>-69.6</td>\n",
       "      <td>342.1</td>\n",
       "      <td>1.3</td>\n",
       "      <td>1.1</td>\n",
       "      <td>2020-10-03</td>\n",
       "      <td>1805</td>\n",
       "      <td>Aqua</td>\n",
       "      <td>MODIS</td>\n",
       "      <td>91</td>\n",
       "      <td>6.0NRT</td>\n",
       "      <td>298.1</td>\n",
       "      <td>60.8</td>\n",
       "      <td>D</td>\n",
       "      <td>-10.7-69.62020-10-03</td>\n",
       "      <td>-10.7-69.6</td>\n",
       "    </tr>\n",
       "  </tbody>\n",
       "</table>\n",
       "<p>241723 rows × 16 columns</p>\n",
       "</div>"
      ],
      "text/plain": [
       "       latitude longitude  brightness  scan  track   acq_date  acq_time  \\\n",
       "0         -6.38     -43.6       300.6   2.8    1.6 2020-07-01        55   \n",
       "1         -5.27     -37.3       316.4   1.0    1.0 2020-07-01        55   \n",
       "2         -3.59     -38.8       301.9   1.1    1.1 2020-07-01        55   \n",
       "3         -18.7     -57.6       368.7   1.0    1.0 2020-07-01       230   \n",
       "4         -18.7     -57.6       327.5   1.0    1.0 2020-07-01       230   \n",
       "...         ...       ...         ...   ...    ...        ...       ...   \n",
       "241718    -10.8     -69.6       327.9   1.3    1.1 2020-10-03      1805   \n",
       "241719    -10.8     -69.6       334.0   1.3    1.1 2020-10-03      1805   \n",
       "241720    -10.8     -69.6       352.4   1.3    1.1 2020-10-03      1805   \n",
       "241721    -10.7     -69.5       324.8   1.3    1.1 2020-10-03      1805   \n",
       "241722    -10.7     -69.6       342.1   1.3    1.1 2020-10-03      1805   \n",
       "\n",
       "       satellite instrument  confidence version  bright_t31    frp daynight  \\\n",
       "0          Terra      MODIS          31  6.0NRT       289.9   17.5        N   \n",
       "1          Terra      MODIS          93  6.0NRT       292.7   14.1        N   \n",
       "2          Terra      MODIS          21  6.0NRT       290.8    4.2        N   \n",
       "3          Terra      MODIS         100  6.0NRT       300.0  113.6        N   \n",
       "4          Terra      MODIS          80  6.0NRT       291.3   27.2        N   \n",
       "...          ...        ...         ...     ...         ...    ...      ...   \n",
       "241718      Aqua      MODIS          82  6.0NRT       297.8   30.0        D   \n",
       "241719      Aqua      MODIS          86  6.0NRT       296.9   41.8        D   \n",
       "241720      Aqua      MODIS          96  6.0NRT       299.3   93.9        D   \n",
       "241721      Aqua      MODIS          79  6.0NRT       296.6   23.7        D   \n",
       "241722      Aqua      MODIS          91  6.0NRT       298.1   60.8        D   \n",
       "\n",
       "                         key     key_loc  \n",
       "0       -6.38-43.62020-07-01  -6.38-43.6  \n",
       "1       -5.27-37.32020-07-01  -5.27-37.3  \n",
       "2       -3.59-38.82020-07-01  -3.59-38.8  \n",
       "3       -18.7-57.62020-07-01  -18.7-57.6  \n",
       "4       -18.7-57.62020-07-01  -18.7-57.6  \n",
       "...                      ...         ...  \n",
       "241718  -10.8-69.62020-10-03  -10.8-69.6  \n",
       "241719  -10.8-69.62020-10-03  -10.8-69.6  \n",
       "241720  -10.8-69.62020-10-03  -10.8-69.6  \n",
       "241721  -10.7-69.52020-10-03  -10.7-69.5  \n",
       "241722  -10.7-69.62020-10-03  -10.7-69.6  \n",
       "\n",
       "[241723 rows x 16 columns]"
      ]
     },
     "execution_count": 122,
     "metadata": {},
     "output_type": "execute_result"
    }
   ],
   "source": [
    "df_fire_rt"
   ]
  },
  {
   "cell_type": "code",
   "execution_count": 123,
   "metadata": {
    "ExecuteTime": {
     "end_time": "2020-10-05T00:42:47.122138Z",
     "start_time": "2020-10-05T00:42:46.608432Z"
    }
   },
   "outputs": [
    {
     "data": {
      "text/html": [
       "<div>\n",
       "<style scoped>\n",
       "    .dataframe tbody tr th:only-of-type {\n",
       "        vertical-align: middle;\n",
       "    }\n",
       "\n",
       "    .dataframe tbody tr th {\n",
       "        vertical-align: top;\n",
       "    }\n",
       "\n",
       "    .dataframe thead th {\n",
       "        text-align: right;\n",
       "    }\n",
       "</style>\n",
       "<table border=\"1\" class=\"dataframe\">\n",
       "  <thead>\n",
       "    <tr style=\"text-align: right;\">\n",
       "      <th></th>\n",
       "      <th>latitude</th>\n",
       "      <th>longitude</th>\n",
       "      <th>brightness</th>\n",
       "      <th>scan</th>\n",
       "      <th>track</th>\n",
       "      <th>acq_date</th>\n",
       "      <th>acq_time</th>\n",
       "      <th>satellite</th>\n",
       "      <th>instrument</th>\n",
       "      <th>confidence</th>\n",
       "      <th>version</th>\n",
       "      <th>bright_t31</th>\n",
       "      <th>frp</th>\n",
       "      <th>daynight</th>\n",
       "      <th>key</th>\n",
       "      <th>key_loc</th>\n",
       "    </tr>\n",
       "  </thead>\n",
       "  <tbody>\n",
       "    <tr>\n",
       "      <td>0</td>\n",
       "      <td>-6.38</td>\n",
       "      <td>-43.6</td>\n",
       "      <td>300.6</td>\n",
       "      <td>2.8</td>\n",
       "      <td>1.6</td>\n",
       "      <td>2020-07-01</td>\n",
       "      <td>55</td>\n",
       "      <td>Terra</td>\n",
       "      <td>MODIS</td>\n",
       "      <td>31</td>\n",
       "      <td>6.0NRT</td>\n",
       "      <td>289.9</td>\n",
       "      <td>17.5</td>\n",
       "      <td>N</td>\n",
       "      <td>-6.38-43.62020-07-01</td>\n",
       "      <td>-6.38-43.6</td>\n",
       "    </tr>\n",
       "    <tr>\n",
       "      <td>1</td>\n",
       "      <td>-5.27</td>\n",
       "      <td>-37.3</td>\n",
       "      <td>316.4</td>\n",
       "      <td>1.0</td>\n",
       "      <td>1.0</td>\n",
       "      <td>2020-07-01</td>\n",
       "      <td>55</td>\n",
       "      <td>Terra</td>\n",
       "      <td>MODIS</td>\n",
       "      <td>93</td>\n",
       "      <td>6.0NRT</td>\n",
       "      <td>292.7</td>\n",
       "      <td>14.1</td>\n",
       "      <td>N</td>\n",
       "      <td>-5.27-37.32020-07-01</td>\n",
       "      <td>-5.27-37.3</td>\n",
       "    </tr>\n",
       "    <tr>\n",
       "      <td>2</td>\n",
       "      <td>-3.59</td>\n",
       "      <td>-38.8</td>\n",
       "      <td>301.9</td>\n",
       "      <td>1.1</td>\n",
       "      <td>1.1</td>\n",
       "      <td>2020-07-01</td>\n",
       "      <td>55</td>\n",
       "      <td>Terra</td>\n",
       "      <td>MODIS</td>\n",
       "      <td>21</td>\n",
       "      <td>6.0NRT</td>\n",
       "      <td>290.8</td>\n",
       "      <td>4.2</td>\n",
       "      <td>N</td>\n",
       "      <td>-3.59-38.82020-07-01</td>\n",
       "      <td>-3.59-38.8</td>\n",
       "    </tr>\n",
       "    <tr>\n",
       "      <td>3</td>\n",
       "      <td>-18.7</td>\n",
       "      <td>-57.6</td>\n",
       "      <td>368.7</td>\n",
       "      <td>1.0</td>\n",
       "      <td>1.0</td>\n",
       "      <td>2020-07-01</td>\n",
       "      <td>230</td>\n",
       "      <td>Terra</td>\n",
       "      <td>MODIS</td>\n",
       "      <td>100</td>\n",
       "      <td>6.0NRT</td>\n",
       "      <td>300.0</td>\n",
       "      <td>113.6</td>\n",
       "      <td>N</td>\n",
       "      <td>-18.7-57.62020-07-01</td>\n",
       "      <td>-18.7-57.6</td>\n",
       "    </tr>\n",
       "    <tr>\n",
       "      <td>4</td>\n",
       "      <td>-18.7</td>\n",
       "      <td>-57.6</td>\n",
       "      <td>327.5</td>\n",
       "      <td>1.0</td>\n",
       "      <td>1.0</td>\n",
       "      <td>2020-07-01</td>\n",
       "      <td>230</td>\n",
       "      <td>Terra</td>\n",
       "      <td>MODIS</td>\n",
       "      <td>80</td>\n",
       "      <td>6.0NRT</td>\n",
       "      <td>291.3</td>\n",
       "      <td>27.2</td>\n",
       "      <td>N</td>\n",
       "      <td>-18.7-57.62020-07-01</td>\n",
       "      <td>-18.7-57.6</td>\n",
       "    </tr>\n",
       "    <tr>\n",
       "      <td>...</td>\n",
       "      <td>...</td>\n",
       "      <td>...</td>\n",
       "      <td>...</td>\n",
       "      <td>...</td>\n",
       "      <td>...</td>\n",
       "      <td>...</td>\n",
       "      <td>...</td>\n",
       "      <td>...</td>\n",
       "      <td>...</td>\n",
       "      <td>...</td>\n",
       "      <td>...</td>\n",
       "      <td>...</td>\n",
       "      <td>...</td>\n",
       "      <td>...</td>\n",
       "      <td>...</td>\n",
       "      <td>...</td>\n",
       "    </tr>\n",
       "    <tr>\n",
       "      <td>241705</td>\n",
       "      <td>-9.99</td>\n",
       "      <td>-64.2</td>\n",
       "      <td>362.0</td>\n",
       "      <td>1.1</td>\n",
       "      <td>1.1</td>\n",
       "      <td>2020-10-03</td>\n",
       "      <td>1805</td>\n",
       "      <td>Aqua</td>\n",
       "      <td>MODIS</td>\n",
       "      <td>100</td>\n",
       "      <td>6.0NRT</td>\n",
       "      <td>304.7</td>\n",
       "      <td>92.2</td>\n",
       "      <td>D</td>\n",
       "      <td>-9.99-64.22020-10-03</td>\n",
       "      <td>-9.99-64.2</td>\n",
       "    </tr>\n",
       "    <tr>\n",
       "      <td>241706</td>\n",
       "      <td>-9.87</td>\n",
       "      <td>-65.2</td>\n",
       "      <td>323.5</td>\n",
       "      <td>1.0</td>\n",
       "      <td>1.0</td>\n",
       "      <td>2020-10-03</td>\n",
       "      <td>1805</td>\n",
       "      <td>Aqua</td>\n",
       "      <td>MODIS</td>\n",
       "      <td>56</td>\n",
       "      <td>6.0NRT</td>\n",
       "      <td>298.5</td>\n",
       "      <td>11.0</td>\n",
       "      <td>D</td>\n",
       "      <td>-9.87-65.22020-10-03</td>\n",
       "      <td>-9.87-65.2</td>\n",
       "    </tr>\n",
       "    <tr>\n",
       "      <td>241708</td>\n",
       "      <td>-8.61</td>\n",
       "      <td>-70.1</td>\n",
       "      <td>312.2</td>\n",
       "      <td>1.4</td>\n",
       "      <td>1.2</td>\n",
       "      <td>2020-10-03</td>\n",
       "      <td>1805</td>\n",
       "      <td>Aqua</td>\n",
       "      <td>MODIS</td>\n",
       "      <td>51</td>\n",
       "      <td>6.0NRT</td>\n",
       "      <td>289.8</td>\n",
       "      <td>12.9</td>\n",
       "      <td>D</td>\n",
       "      <td>-8.61-70.12020-10-03</td>\n",
       "      <td>-8.61-70.1</td>\n",
       "    </tr>\n",
       "    <tr>\n",
       "      <td>241709</td>\n",
       "      <td>-8.61</td>\n",
       "      <td>-70.2</td>\n",
       "      <td>336.9</td>\n",
       "      <td>1.4</td>\n",
       "      <td>1.2</td>\n",
       "      <td>2020-10-03</td>\n",
       "      <td>1805</td>\n",
       "      <td>Aqua</td>\n",
       "      <td>MODIS</td>\n",
       "      <td>89</td>\n",
       "      <td>6.0NRT</td>\n",
       "      <td>293.0</td>\n",
       "      <td>57.4</td>\n",
       "      <td>D</td>\n",
       "      <td>-8.61-70.22020-10-03</td>\n",
       "      <td>-8.61-70.2</td>\n",
       "    </tr>\n",
       "    <tr>\n",
       "      <td>241710</td>\n",
       "      <td>-9.87</td>\n",
       "      <td>-65.2</td>\n",
       "      <td>324.2</td>\n",
       "      <td>1.0</td>\n",
       "      <td>1.0</td>\n",
       "      <td>2020-10-03</td>\n",
       "      <td>1805</td>\n",
       "      <td>Aqua</td>\n",
       "      <td>MODIS</td>\n",
       "      <td>60</td>\n",
       "      <td>6.0NRT</td>\n",
       "      <td>301.8</td>\n",
       "      <td>10.7</td>\n",
       "      <td>D</td>\n",
       "      <td>-9.87-65.22020-10-03</td>\n",
       "      <td>-9.87-65.2</td>\n",
       "    </tr>\n",
       "  </tbody>\n",
       "</table>\n",
       "<p>133802 rows × 16 columns</p>\n",
       "</div>"
      ],
      "text/plain": [
       "       latitude longitude  brightness  scan  track   acq_date  acq_time  \\\n",
       "0         -6.38     -43.6       300.6   2.8    1.6 2020-07-01        55   \n",
       "1         -5.27     -37.3       316.4   1.0    1.0 2020-07-01        55   \n",
       "2         -3.59     -38.8       301.9   1.1    1.1 2020-07-01        55   \n",
       "3         -18.7     -57.6       368.7   1.0    1.0 2020-07-01       230   \n",
       "4         -18.7     -57.6       327.5   1.0    1.0 2020-07-01       230   \n",
       "...         ...       ...         ...   ...    ...        ...       ...   \n",
       "241705    -9.99     -64.2       362.0   1.1    1.1 2020-10-03      1805   \n",
       "241706    -9.87     -65.2       323.5   1.0    1.0 2020-10-03      1805   \n",
       "241708    -8.61     -70.1       312.2   1.4    1.2 2020-10-03      1805   \n",
       "241709    -8.61     -70.2       336.9   1.4    1.2 2020-10-03      1805   \n",
       "241710    -9.87     -65.2       324.2   1.0    1.0 2020-10-03      1805   \n",
       "\n",
       "       satellite instrument  confidence version  bright_t31    frp daynight  \\\n",
       "0          Terra      MODIS          31  6.0NRT       289.9   17.5        N   \n",
       "1          Terra      MODIS          93  6.0NRT       292.7   14.1        N   \n",
       "2          Terra      MODIS          21  6.0NRT       290.8    4.2        N   \n",
       "3          Terra      MODIS         100  6.0NRT       300.0  113.6        N   \n",
       "4          Terra      MODIS          80  6.0NRT       291.3   27.2        N   \n",
       "...          ...        ...         ...     ...         ...    ...      ...   \n",
       "241705      Aqua      MODIS         100  6.0NRT       304.7   92.2        D   \n",
       "241706      Aqua      MODIS          56  6.0NRT       298.5   11.0        D   \n",
       "241708      Aqua      MODIS          51  6.0NRT       289.8   12.9        D   \n",
       "241709      Aqua      MODIS          89  6.0NRT       293.0   57.4        D   \n",
       "241710      Aqua      MODIS          60  6.0NRT       301.8   10.7        D   \n",
       "\n",
       "                         key     key_loc  \n",
       "0       -6.38-43.62020-07-01  -6.38-43.6  \n",
       "1       -5.27-37.32020-07-01  -5.27-37.3  \n",
       "2       -3.59-38.82020-07-01  -3.59-38.8  \n",
       "3       -18.7-57.62020-07-01  -18.7-57.6  \n",
       "4       -18.7-57.62020-07-01  -18.7-57.6  \n",
       "...                      ...         ...  \n",
       "241705  -9.99-64.22020-10-03  -9.99-64.2  \n",
       "241706  -9.87-65.22020-10-03  -9.87-65.2  \n",
       "241708  -8.61-70.12020-10-03  -8.61-70.1  \n",
       "241709  -8.61-70.22020-10-03  -8.61-70.2  \n",
       "241710  -9.87-65.22020-10-03  -9.87-65.2  \n",
       "\n",
       "[133802 rows x 16 columns]"
      ]
     },
     "execution_count": 123,
     "metadata": {},
     "output_type": "execute_result"
    }
   ],
   "source": [
    "df_fire_rt.groupby([\"latitude\",\"longitude\"], as_index=False).head()"
   ]
  },
  {
   "cell_type": "markdown",
   "metadata": {},
   "source": [
    "## Dados metereológicos"
   ]
  },
  {
   "cell_type": "code",
   "execution_count": 195,
   "metadata": {
    "ExecuteTime": {
     "end_time": "2020-10-05T01:54:35.552261Z",
     "start_time": "2020-10-05T01:54:35.343921Z"
    }
   },
   "outputs": [],
   "source": [
    "df_ambiente = pd.read_csv(data_path+r'meteomatics/meteomatics_2020-07-01_P3MP1D_maxmin.csv',sep=';')"
   ]
  },
  {
   "cell_type": "code",
   "execution_count": 196,
   "metadata": {
    "ExecuteTime": {
     "end_time": "2020-10-05T01:54:36.562838Z",
     "start_time": "2020-10-05T01:54:36.544845Z"
    },
    "scrolled": true
   },
   "outputs": [
    {
     "data": {
      "text/plain": [
       "Index(['lat', 'lon', 'validdate', 't_2m:C', 'precip_1h:mm',\n",
       "       'relative_humidity_2m:p', 'total_cloud_cover:p', 'wind_speed_10m:ms'],\n",
       "      dtype='object')"
      ]
     },
     "execution_count": 196,
     "metadata": {},
     "output_type": "execute_result"
    }
   ],
   "source": [
    "df_ambiente.columns"
   ]
  },
  {
   "cell_type": "code",
   "execution_count": 198,
   "metadata": {
    "ExecuteTime": {
     "end_time": "2020-10-05T01:54:40.060599Z",
     "start_time": "2020-10-05T01:54:40.045601Z"
    }
   },
   "outputs": [],
   "source": [
    "df_ambiente.validdate = df_ambiente.validdate.astype(str).str[:10]"
   ]
  },
  {
   "cell_type": "code",
   "execution_count": 199,
   "metadata": {
    "ExecuteTime": {
     "end_time": "2020-10-05T01:54:41.225399Z",
     "start_time": "2020-10-05T01:54:41.217403Z"
    }
   },
   "outputs": [],
   "source": [
    "df_ambiente['lat'] = df_ambiente['lat'].astype(float)\n",
    "df_ambiente['lon'] = df_ambiente['lon'].astype(float)"
   ]
  },
  {
   "cell_type": "code",
   "execution_count": 200,
   "metadata": {
    "ExecuteTime": {
     "end_time": "2020-10-05T01:54:43.226948Z",
     "start_time": "2020-10-05T01:54:43.213956Z"
    }
   },
   "outputs": [],
   "source": [
    "df_ambiente['lat'] = df_ambiente['lat'].apply(lambda x: round(x,2))\n",
    "df_ambiente['lon'] = df_ambiente['lon'].apply(lambda x: round(x,2))"
   ]
  },
  {
   "cell_type": "code",
   "execution_count": 201,
   "metadata": {
    "ExecuteTime": {
     "end_time": "2020-10-05T01:54:45.928499Z",
     "start_time": "2020-10-05T01:54:45.798480Z"
    }
   },
   "outputs": [],
   "source": [
    "df_ambiente[\"key\"] = df_ambiente['lat'].astype(str) + df_ambiente['lon'].astype(str) + df_ambiente['validdate'].astype(str)"
   ]
  },
  {
   "cell_type": "code",
   "execution_count": 202,
   "metadata": {
    "ExecuteTime": {
     "end_time": "2020-10-05T01:54:49.214993Z",
     "start_time": "2020-10-05T01:54:49.106974Z"
    }
   },
   "outputs": [
    {
     "data": {
      "text/html": [
       "<div>\n",
       "<style scoped>\n",
       "    .dataframe tbody tr th:only-of-type {\n",
       "        vertical-align: middle;\n",
       "    }\n",
       "\n",
       "    .dataframe tbody tr th {\n",
       "        vertical-align: top;\n",
       "    }\n",
       "\n",
       "    .dataframe thead th {\n",
       "        text-align: right;\n",
       "    }\n",
       "</style>\n",
       "<table border=\"1\" class=\"dataframe\">\n",
       "  <thead>\n",
       "    <tr style=\"text-align: right;\">\n",
       "      <th></th>\n",
       "      <th>lat</th>\n",
       "      <th>lon</th>\n",
       "      <th>validdate</th>\n",
       "      <th>t_2m:C</th>\n",
       "      <th>precip_1h:mm</th>\n",
       "      <th>relative_humidity_2m:p</th>\n",
       "      <th>total_cloud_cover:p</th>\n",
       "      <th>wind_speed_10m:ms</th>\n",
       "      <th>key</th>\n",
       "    </tr>\n",
       "  </thead>\n",
       "  <tbody>\n",
       "    <tr>\n",
       "      <td>0</td>\n",
       "      <td>4.94</td>\n",
       "      <td>-34.92</td>\n",
       "      <td>2020-07-01</td>\n",
       "      <td>26.1</td>\n",
       "      <td>0.47</td>\n",
       "      <td>85.7</td>\n",
       "      <td>93.4</td>\n",
       "      <td>5.9</td>\n",
       "      <td>4.94-34.922020-07-01</td>\n",
       "    </tr>\n",
       "    <tr>\n",
       "      <td>1</td>\n",
       "      <td>4.94</td>\n",
       "      <td>-34.92</td>\n",
       "      <td>2020-07-02</td>\n",
       "      <td>25.3</td>\n",
       "      <td>8.40</td>\n",
       "      <td>85.3</td>\n",
       "      <td>100.0</td>\n",
       "      <td>0.8</td>\n",
       "      <td>4.94-34.922020-07-02</td>\n",
       "    </tr>\n",
       "    <tr>\n",
       "      <td>2</td>\n",
       "      <td>4.94</td>\n",
       "      <td>-34.92</td>\n",
       "      <td>2020-07-03</td>\n",
       "      <td>26.1</td>\n",
       "      <td>0.00</td>\n",
       "      <td>84.0</td>\n",
       "      <td>85.9</td>\n",
       "      <td>3.1</td>\n",
       "      <td>4.94-34.922020-07-03</td>\n",
       "    </tr>\n",
       "    <tr>\n",
       "      <td>3</td>\n",
       "      <td>4.94</td>\n",
       "      <td>-34.92</td>\n",
       "      <td>2020-07-04</td>\n",
       "      <td>27.3</td>\n",
       "      <td>0.05</td>\n",
       "      <td>77.8</td>\n",
       "      <td>40.2</td>\n",
       "      <td>5.1</td>\n",
       "      <td>4.94-34.922020-07-04</td>\n",
       "    </tr>\n",
       "    <tr>\n",
       "      <td>4</td>\n",
       "      <td>4.94</td>\n",
       "      <td>-34.92</td>\n",
       "      <td>2020-07-05</td>\n",
       "      <td>27.5</td>\n",
       "      <td>0.08</td>\n",
       "      <td>78.8</td>\n",
       "      <td>32.2</td>\n",
       "      <td>7.1</td>\n",
       "      <td>4.94-34.922020-07-05</td>\n",
       "    </tr>\n",
       "  </tbody>\n",
       "</table>\n",
       "</div>"
      ],
      "text/plain": [
       "    lat    lon   validdate  t_2m:C  precip_1h:mm  relative_humidity_2m:p  \\\n",
       "0  4.94 -34.92  2020-07-01    26.1          0.47                    85.7   \n",
       "1  4.94 -34.92  2020-07-02    25.3          8.40                    85.3   \n",
       "2  4.94 -34.92  2020-07-03    26.1          0.00                    84.0   \n",
       "3  4.94 -34.92  2020-07-04    27.3          0.05                    77.8   \n",
       "4  4.94 -34.92  2020-07-05    27.5          0.08                    78.8   \n",
       "\n",
       "   total_cloud_cover:p  wind_speed_10m:ms                   key  \n",
       "0                 93.4                5.9  4.94-34.922020-07-01  \n",
       "1                100.0                0.8  4.94-34.922020-07-02  \n",
       "2                 85.9                3.1  4.94-34.922020-07-03  \n",
       "3                 40.2                5.1  4.94-34.922020-07-04  \n",
       "4                 32.2                7.1  4.94-34.922020-07-05  "
      ]
     },
     "execution_count": 202,
     "metadata": {},
     "output_type": "execute_result"
    }
   ],
   "source": [
    "df_ambiente.head()"
   ]
  },
  {
   "cell_type": "markdown",
   "metadata": {},
   "source": [
    "## Mesclando Datasets"
   ]
  },
  {
   "cell_type": "code",
   "execution_count": 156,
   "metadata": {
    "ExecuteTime": {
     "end_time": "2020-10-05T01:00:41.418689Z",
     "start_time": "2020-10-05T01:00:41.396702Z"
    }
   },
   "outputs": [
    {
     "data": {
      "text/plain": [
       "latitude              object\n",
       "longitude             object\n",
       "brightness           float64\n",
       "scan                 float64\n",
       "track                float64\n",
       "acq_date      datetime64[ns]\n",
       "acq_time               int64\n",
       "satellite             object\n",
       "instrument            object\n",
       "confidence             int64\n",
       "version               object\n",
       "bright_t31           float64\n",
       "frp                  float64\n",
       "daynight              object\n",
       "key                   object\n",
       "key_loc               object\n",
       "dtype: object"
      ]
     },
     "execution_count": 156,
     "metadata": {},
     "output_type": "execute_result"
    }
   ],
   "source": [
    "df_fire_rt.dtypes"
   ]
  },
  {
   "cell_type": "code",
   "execution_count": 157,
   "metadata": {
    "ExecuteTime": {
     "end_time": "2020-10-05T01:00:43.248341Z",
     "start_time": "2020-10-05T01:00:43.229352Z"
    }
   },
   "outputs": [
    {
     "data": {
      "text/plain": [
       "lat                        object\n",
       "lon                        object\n",
       "validdate                  object\n",
       "t_2m:C                    float64\n",
       "precip_1h:mm              float64\n",
       "relative_humidity_2m:p    float64\n",
       "total_cloud_cover:p       float64\n",
       "wind_speed_10m:ms         float64\n",
       "key                        object\n",
       "dtype: object"
      ]
     },
     "execution_count": 157,
     "metadata": {},
     "output_type": "execute_result"
    }
   ],
   "source": [
    "df_ambiente.dtypes"
   ]
  },
  {
   "cell_type": "code",
   "execution_count": 168,
   "metadata": {
    "ExecuteTime": {
     "end_time": "2020-10-05T01:21:31.192587Z",
     "start_time": "2020-10-05T01:21:31.181595Z"
    }
   },
   "outputs": [],
   "source": [
    "def ocorreu_incendio(chave):\n",
    "    if chave in df_fire_rt['key'].values:\n",
    "        return 1\n",
    "    else: return 0"
   ]
  },
  {
   "cell_type": "code",
   "execution_count": 171,
   "metadata": {
    "ExecuteTime": {
     "end_time": "2020-10-05T01:25:54.236622Z",
     "start_time": "2020-10-05T01:25:54.080954Z"
    }
   },
   "outputs": [
    {
     "data": {
      "text/plain": [
       "array(['-6.38-43.62020-07-01', '-5.27-37.32020-07-01',\n",
       "       '-3.59-38.82020-07-01', ..., '-10.8-69.62020-10-03',\n",
       "       '-10.7-69.52020-10-03', '-10.7-69.62020-10-03'], dtype=object)"
      ]
     },
     "execution_count": 171,
     "metadata": {},
     "output_type": "execute_result"
    }
   ],
   "source": [
    "df_fire_rt['key'].values"
   ]
  },
  {
   "cell_type": "code",
   "execution_count": 170,
   "metadata": {
    "ExecuteTime": {
     "end_time": "2020-10-05T01:25:46.659325Z",
     "start_time": "2020-10-05T01:25:46.608373Z"
    }
   },
   "outputs": [
    {
     "data": {
      "text/plain": [
       "'-6.38-43.62020-07-01'"
      ]
     },
     "execution_count": 170,
     "metadata": {},
     "output_type": "execute_result"
    }
   ],
   "source": [
    "df_fire_rt['key'].values[0]"
   ]
  },
  {
   "cell_type": "code",
   "execution_count": 187,
   "metadata": {
    "ExecuteTime": {
     "end_time": "2020-10-05T01:43:14.000708Z",
     "start_time": "2020-10-05T01:43:12.334663Z"
    }
   },
   "outputs": [
    {
     "data": {
      "text/plain": [
       "0    186\n",
       "Name: key, dtype: int64"
      ]
     },
     "execution_count": 187,
     "metadata": {},
     "output_type": "execute_result"
    }
   ],
   "source": [
    "df_ambiente['key'].apply(lambda x: ocorreu_incendio(str(x))).value_counts()"
   ]
  },
  {
   "cell_type": "code",
   "execution_count": null,
   "metadata": {},
   "outputs": [],
   "source": [
    "df_ambiente"
   ]
  },
  {
   "cell_type": "code",
   "execution_count": 165,
   "metadata": {
    "ExecuteTime": {
     "end_time": "2020-10-05T01:10:31.545814Z",
     "start_time": "2020-10-05T01:10:31.439416Z"
    },
    "collapsed": true
   },
   "outputs": [
    {
     "ename": "ValueError",
     "evalue": "You are trying to merge on object and int64 columns. If you wish to proceed you should use pd.concat",
     "output_type": "error",
     "traceback": [
      "\u001b[1;31m---------------------------------------------------------------------------\u001b[0m",
      "\u001b[1;31mValueError\u001b[0m                                Traceback (most recent call last)",
      "\u001b[1;32m<ipython-input-165-68d9a335f5f0>\u001b[0m in \u001b[0;36m<module>\u001b[1;34m\u001b[0m\n\u001b[1;32m----> 1\u001b[1;33m \u001b[0mdf_ambiente\u001b[0m\u001b[1;33m[\u001b[0m\u001b[1;33m[\u001b[0m\u001b[1;34m'key'\u001b[0m\u001b[1;33m]\u001b[0m\u001b[1;33m]\u001b[0m\u001b[1;33m.\u001b[0m\u001b[0mjoin\u001b[0m\u001b[1;33m(\u001b[0m\u001b[0mdf_ambiente\u001b[0m\u001b[1;33m[\u001b[0m\u001b[1;33m[\u001b[0m\u001b[1;34m'key'\u001b[0m\u001b[1;33m]\u001b[0m\u001b[1;33m]\u001b[0m\u001b[1;33m,\u001b[0m\u001b[0mon\u001b[0m\u001b[1;33m=\u001b[0m\u001b[1;34m'key'\u001b[0m\u001b[1;33m,\u001b[0m\u001b[0mhow\u001b[0m\u001b[1;33m=\u001b[0m\u001b[1;34m'inner'\u001b[0m\u001b[1;33m)\u001b[0m\u001b[1;33m\u001b[0m\u001b[1;33m\u001b[0m\u001b[0m\n\u001b[0m",
      "\u001b[1;32m~\\Anaconda3\\lib\\site-packages\\pandas\\core\\frame.py\u001b[0m in \u001b[0;36mjoin\u001b[1;34m(self, other, on, how, lsuffix, rsuffix, sort)\u001b[0m\n\u001b[0;32m   7244\u001b[0m         \u001b[1;31m# For SparseDataFrame's benefit\u001b[0m\u001b[1;33m\u001b[0m\u001b[1;33m\u001b[0m\u001b[1;33m\u001b[0m\u001b[0m\n\u001b[0;32m   7245\u001b[0m         return self._join_compat(\n\u001b[1;32m-> 7246\u001b[1;33m             \u001b[0mother\u001b[0m\u001b[1;33m,\u001b[0m \u001b[0mon\u001b[0m\u001b[1;33m=\u001b[0m\u001b[0mon\u001b[0m\u001b[1;33m,\u001b[0m \u001b[0mhow\u001b[0m\u001b[1;33m=\u001b[0m\u001b[0mhow\u001b[0m\u001b[1;33m,\u001b[0m \u001b[0mlsuffix\u001b[0m\u001b[1;33m=\u001b[0m\u001b[0mlsuffix\u001b[0m\u001b[1;33m,\u001b[0m \u001b[0mrsuffix\u001b[0m\u001b[1;33m=\u001b[0m\u001b[0mrsuffix\u001b[0m\u001b[1;33m,\u001b[0m \u001b[0msort\u001b[0m\u001b[1;33m=\u001b[0m\u001b[0msort\u001b[0m\u001b[1;33m\u001b[0m\u001b[1;33m\u001b[0m\u001b[0m\n\u001b[0m\u001b[0;32m   7247\u001b[0m         )\n\u001b[0;32m   7248\u001b[0m \u001b[1;33m\u001b[0m\u001b[0m\n",
      "\u001b[1;32m~\\Anaconda3\\lib\\site-packages\\pandas\\core\\frame.py\u001b[0m in \u001b[0;36m_join_compat\u001b[1;34m(self, other, on, how, lsuffix, rsuffix, sort)\u001b[0m\n\u001b[0;32m   7267\u001b[0m                 \u001b[0mright_index\u001b[0m\u001b[1;33m=\u001b[0m\u001b[1;32mTrue\u001b[0m\u001b[1;33m,\u001b[0m\u001b[1;33m\u001b[0m\u001b[1;33m\u001b[0m\u001b[0m\n\u001b[0;32m   7268\u001b[0m                 \u001b[0msuffixes\u001b[0m\u001b[1;33m=\u001b[0m\u001b[1;33m(\u001b[0m\u001b[0mlsuffix\u001b[0m\u001b[1;33m,\u001b[0m \u001b[0mrsuffix\u001b[0m\u001b[1;33m)\u001b[0m\u001b[1;33m,\u001b[0m\u001b[1;33m\u001b[0m\u001b[1;33m\u001b[0m\u001b[0m\n\u001b[1;32m-> 7269\u001b[1;33m                 \u001b[0msort\u001b[0m\u001b[1;33m=\u001b[0m\u001b[0msort\u001b[0m\u001b[1;33m,\u001b[0m\u001b[1;33m\u001b[0m\u001b[1;33m\u001b[0m\u001b[0m\n\u001b[0m\u001b[0;32m   7270\u001b[0m             )\n\u001b[0;32m   7271\u001b[0m         \u001b[1;32melse\u001b[0m\u001b[1;33m:\u001b[0m\u001b[1;33m\u001b[0m\u001b[1;33m\u001b[0m\u001b[0m\n",
      "\u001b[1;32m~\\Anaconda3\\lib\\site-packages\\pandas\\core\\reshape\\merge.py\u001b[0m in \u001b[0;36mmerge\u001b[1;34m(left, right, how, on, left_on, right_on, left_index, right_index, sort, suffixes, copy, indicator, validate)\u001b[0m\n\u001b[0;32m     79\u001b[0m         \u001b[0mcopy\u001b[0m\u001b[1;33m=\u001b[0m\u001b[0mcopy\u001b[0m\u001b[1;33m,\u001b[0m\u001b[1;33m\u001b[0m\u001b[1;33m\u001b[0m\u001b[0m\n\u001b[0;32m     80\u001b[0m         \u001b[0mindicator\u001b[0m\u001b[1;33m=\u001b[0m\u001b[0mindicator\u001b[0m\u001b[1;33m,\u001b[0m\u001b[1;33m\u001b[0m\u001b[1;33m\u001b[0m\u001b[0m\n\u001b[1;32m---> 81\u001b[1;33m         \u001b[0mvalidate\u001b[0m\u001b[1;33m=\u001b[0m\u001b[0mvalidate\u001b[0m\u001b[1;33m,\u001b[0m\u001b[1;33m\u001b[0m\u001b[1;33m\u001b[0m\u001b[0m\n\u001b[0m\u001b[0;32m     82\u001b[0m     )\n\u001b[0;32m     83\u001b[0m     \u001b[1;32mreturn\u001b[0m \u001b[0mop\u001b[0m\u001b[1;33m.\u001b[0m\u001b[0mget_result\u001b[0m\u001b[1;33m(\u001b[0m\u001b[1;33m)\u001b[0m\u001b[1;33m\u001b[0m\u001b[1;33m\u001b[0m\u001b[0m\n",
      "\u001b[1;32m~\\Anaconda3\\lib\\site-packages\\pandas\\core\\reshape\\merge.py\u001b[0m in \u001b[0;36m__init__\u001b[1;34m(self, left, right, how, on, left_on, right_on, axis, left_index, right_index, sort, suffixes, copy, indicator, validate)\u001b[0m\n\u001b[0;32m    628\u001b[0m         \u001b[1;31m# validate the merge keys dtypes. We may need to coerce\u001b[0m\u001b[1;33m\u001b[0m\u001b[1;33m\u001b[0m\u001b[1;33m\u001b[0m\u001b[0m\n\u001b[0;32m    629\u001b[0m         \u001b[1;31m# to avoid incompat dtypes\u001b[0m\u001b[1;33m\u001b[0m\u001b[1;33m\u001b[0m\u001b[1;33m\u001b[0m\u001b[0m\n\u001b[1;32m--> 630\u001b[1;33m         \u001b[0mself\u001b[0m\u001b[1;33m.\u001b[0m\u001b[0m_maybe_coerce_merge_keys\u001b[0m\u001b[1;33m(\u001b[0m\u001b[1;33m)\u001b[0m\u001b[1;33m\u001b[0m\u001b[1;33m\u001b[0m\u001b[0m\n\u001b[0m\u001b[0;32m    631\u001b[0m \u001b[1;33m\u001b[0m\u001b[0m\n\u001b[0;32m    632\u001b[0m         \u001b[1;31m# If argument passed to validate,\u001b[0m\u001b[1;33m\u001b[0m\u001b[1;33m\u001b[0m\u001b[1;33m\u001b[0m\u001b[0m\n",
      "\u001b[1;32m~\\Anaconda3\\lib\\site-packages\\pandas\\core\\reshape\\merge.py\u001b[0m in \u001b[0;36m_maybe_coerce_merge_keys\u001b[1;34m(self)\u001b[0m\n\u001b[0;32m   1136\u001b[0m                     \u001b[0minferred_right\u001b[0m \u001b[1;32min\u001b[0m \u001b[0mstring_types\u001b[0m \u001b[1;32mand\u001b[0m \u001b[0minferred_left\u001b[0m \u001b[1;32mnot\u001b[0m \u001b[1;32min\u001b[0m \u001b[0mstring_types\u001b[0m\u001b[1;33m\u001b[0m\u001b[1;33m\u001b[0m\u001b[0m\n\u001b[0;32m   1137\u001b[0m                 ):\n\u001b[1;32m-> 1138\u001b[1;33m                     \u001b[1;32mraise\u001b[0m \u001b[0mValueError\u001b[0m\u001b[1;33m(\u001b[0m\u001b[0mmsg\u001b[0m\u001b[1;33m)\u001b[0m\u001b[1;33m\u001b[0m\u001b[1;33m\u001b[0m\u001b[0m\n\u001b[0m\u001b[0;32m   1139\u001b[0m \u001b[1;33m\u001b[0m\u001b[0m\n\u001b[0;32m   1140\u001b[0m             \u001b[1;31m# datetimelikes must match exactly\u001b[0m\u001b[1;33m\u001b[0m\u001b[1;33m\u001b[0m\u001b[1;33m\u001b[0m\u001b[0m\n",
      "\u001b[1;31mValueError\u001b[0m: You are trying to merge on object and int64 columns. If you wish to proceed you should use pd.concat"
     ]
    }
   ],
   "source": [
    "df_ambiente[['key']].join(df_ambiente[['key']],on='key',how='inner')"
   ]
  },
  {
   "cell_type": "code",
   "execution_count": null,
   "metadata": {},
   "outputs": [],
   "source": []
  }
 ],
 "metadata": {
  "kernelspec": {
   "display_name": "Python 3",
   "language": "python",
   "name": "python3"
  },
  "language_info": {
   "codemirror_mode": {
    "name": "ipython",
    "version": 3
   },
   "file_extension": ".py",
   "mimetype": "text/x-python",
   "name": "python",
   "nbconvert_exporter": "python",
   "pygments_lexer": "ipython3",
   "version": "3.7.4"
  }
 },
 "nbformat": 4,
 "nbformat_minor": 2
}
